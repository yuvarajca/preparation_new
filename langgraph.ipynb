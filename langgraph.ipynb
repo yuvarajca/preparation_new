{
 "cells": [
  {
   "cell_type": "code",
   "execution_count": 13,
   "id": "881e9778-3be8-42da-9ee2-3cfdaf494aaf",
   "metadata": {},
   "outputs": [],
   "source": [
    "###Hello World Graph###\n",
    "from typing import Dict, TypedDict\n",
    "from langgraph.graph import StateGraph"
   ]
  },
  {
   "cell_type": "code",
   "execution_count": 25,
   "id": "4aec6c11-8fe5-458f-a349-8acff80e0c00",
   "metadata": {},
   "outputs": [],
   "source": [
    "class AgentState(TypedDict):\n",
    "    message: str\n",
    "\n",
    "def greeting_node(state:AgentState):\n",
    "    \"\"\"simplle node that adds greeting message to the state\"\"\"\n",
    "\n",
    "    state['message'] = \"Hey  \" + state['message'] + \"how is your day going\"\n",
    "\n",
    "    return state"
   ]
  },
  {
   "cell_type": "code",
   "execution_count": 26,
   "id": "32dfa818-1428-45f2-8592-c5b455abea26",
   "metadata": {},
   "outputs": [],
   "source": [
    "graph = StateGraph(AgentState)\n",
    "graph.add_node(\"greeter\", greeting_node)\n",
    "\n",
    "graph.set_entry_point(\"greeter\")\n",
    "graph.set_finish_point(\"greeter\")\n",
    "\n",
    "app = graph.compile()"
   ]
  },
  {
   "cell_type": "code",
   "execution_count": 27,
   "id": "60630053-6d85-42b3-bd16-688da97a6140",
   "metadata": {},
   "outputs": [
    {
     "data": {
      "image/png": "[encoded data removed]",
      "text/plain": [
       "<IPython.core.display.Image object>"
      ]
     },
     "metadata": {},
     "output_type": "display_data"
    }
   ],
   "source": [
    "from IPython.display import Image, display\n",
    "display(Image(app.get_graph().draw_mermaid_png()))"
   ]
  },
  {
   "cell_type": "code",
   "execution_count": 28,
   "id": "23790197-8fd6-4577-8e0e-3f8f17955298",
   "metadata": {},
   "outputs": [
    {
     "data": {
      "text/plain": [
       "'Hey  bobhow is your day going'"
      ]
     },
     "execution_count": 28,
     "metadata": {},
     "output_type": "execute_result"
    }
   ],
   "source": [
    "result = app.invoke({'message':'bob'})\n",
    "result['message']"
   ]
  },
  {
   "cell_type": "code",
   "execution_count": 29,
   "id": "0af806a4-cc26-4730-8844-45cf3058cd5d",
   "metadata": {},
   "outputs": [],
   "source": [
    "class NewAgentState(TypedDict):\n",
    "    message: str\n",
    "\n",
    "def node_appreciate(state:NewAgentState):\n",
    "    state['message'] = \"Hello, you're doing a great job learning the langgraph\" + state['message']\n",
    "    return state\n",
    "\n",
    "graph = StateGraph(NewAgentState)\n",
    "graph.add_node('appreciater', node_appreciate)\n",
    "graph.set_entry_point('appreciater')\n",
    "graph.set_finish_point('appreciater')\n",
    "new_app = graph.compile()\n"
   ]
  },
  {
   "cell_type": "code",
   "execution_count": 30,
   "id": "cdf0f5ae-a9fb-4a87-8256-b080190cb957",
   "metadata": {},
   "outputs": [
    {
     "data": {
      "image/png": "[encoded data removed]",
      "text/plain": [
       "<IPython.core.display.Image object>"
      ]
     },
     "metadata": {},
     "output_type": "display_data"
    }
   ],
   "source": [
    "display(Image(new_app.get_graph().draw_mermaid_png()))"
   ]
  },
  {
   "cell_type": "code",
   "execution_count": 31,
   "id": "9666c845-f237-4030-96ea-510667ce4cb6",
   "metadata": {},
   "outputs": [],
   "source": [
    "#####Second graph with multiple inputs###\n",
    "from typing import List\n",
    "\n",
    "class AgentState(TypedDict):\n",
    "    values:List[int]\n",
    "    name:str\n",
    "    result:str\n"
   ]
  },
  {
   "cell_type": "code",
   "execution_count": 32,
   "id": "da6ed30d-2605-42bd-9892-956808bbc394",
   "metadata": {},
   "outputs": [],
   "source": [
    "def process_values(state:AgentState):\n",
    "    \"\"\"This function handles multiple different inputs\"\"\"\n",
    "    state['result'] = f\"Hi There {state['name']}! Your Sum = {sum(state['values'])}\"\n",
    "\n",
    "    return state"
   ]
  },
  {
   "cell_type": "code",
   "execution_count": 33,
   "id": "c9de8601-dc01-4efb-abf5-a647475cca0e",
   "metadata": {},
   "outputs": [
    {
     "data": {
      "image/png": "[encoded data removed]",
      "text/plain": [
       "<IPython.core.display.Image object>"
      ]
     },
     "metadata": {},
     "output_type": "display_data"
    }
   ],
   "source": [
    "graph = StateGraph(AgentState)\n",
    "graph.add_node(\"processor\", process_values)\n",
    "graph.set_entry_point(\"processor\")\n",
    "graph.set_finish_point(\"processor\")\n",
    "app = graph.compile()\n",
    "\n",
    "display(Image(app.get_graph().draw_mermaid_png()))"
   ]
  },
  {
   "cell_type": "code",
   "execution_count": 36,
   "id": "d820f95b-4bcc-4c33-b628-0754a35d2d5c",
   "metadata": {},
   "outputs": [
    {
     "data": {
      "text/plain": [
       "'Hi There Jake! Your Sum = 10'"
      ]
     },
     "execution_count": 36,
     "metadata": {},
     "output_type": "execute_result"
    }
   ],
   "source": [
    "answers = app.invoke({\"values\":[1,2,3,4], \"name\":\"Jake\"})\n",
    "answers['result']"
   ]
  },
  {
   "cell_type": "code",
   "execution_count": 37,
   "id": "f42c2eab-3dbb-4da7-b386-ff5ff0968a72",
   "metadata": {},
   "outputs": [],
   "source": [
    "class AgentState(TypedDict):\n",
    "    name:str\n",
    "    age:str\n",
    "    final:str\n",
    "\n",
    "def first_node(state:AgentState):\n",
    "    state['final'] = f\"Hi {state['name']}\"\n",
    "    return state\n",
    "\n",
    "def second_node(state:AgentState):\n",
    "    state['final'] = state['final'] + f\"you're {state['age']} years old\"\n",
    "    return state\n",
    "\n",
    "\n",
    "graph = StateGraph(AgentState)\n",
    "graph.add_node(\"first_node\", first_node)\n",
    "graph.add_node(\"second_node\", second_node)\n",
    "graph.set_entry_point(\"first_node\")\n",
    "graph.add_edge(\"first_node\",\"second_node\")\n",
    "graph.set_finish_point(\"second_node\")\n",
    "\n",
    "app = graph.compile()"
   ]
  },
  {
   "cell_type": "code",
   "execution_count": 38,
   "id": "a960417d",
   "metadata": {},
   "outputs": [
    {
     "data": {
      "image/png": "[encoded data removed]",
      "text/plain": [
       "<IPython.core.display.Image object>"
      ]
     },
     "metadata": {},
     "output_type": "display_data"
    }
   ],
   "source": [
    "display(Image(app.get_graph().draw_mermaid_png()))"
   ]
  },
  {
   "cell_type": "code",
   "execution_count": 39,
   "id": "48b1eac0-4a29-4a69-8025-6a5a661fdbb7",
   "metadata": {},
   "outputs": [
    {
     "data": {
      "text/plain": [
       "{'name': 'Joe', 'age': 26, 'final': \"Hi Joeyou're 26 years old\"}"
      ]
     },
     "execution_count": 39,
     "metadata": {},
     "output_type": "execute_result"
    }
   ],
   "source": [
    "result =  app.invoke({'name':'Joe', 'age':26})\n",
    "result"
   ]
  },
  {
   "cell_type": "code",
   "execution_count": 40,
   "id": "49be2ac7-368c-47a1-97d6-8511a695c1f5",
   "metadata": {},
   "outputs": [
    {
     "data": {
      "image/png": "[encoded data removed]",
      "text/plain": [
       "<IPython.core.display.Image object>"
      ]
     },
     "metadata": {},
     "output_type": "display_data"
    }
   ],
   "source": [
    "from langgraph.graph import StateGraph, START, END\n",
    "\n",
    "class AgentState(TypedDict):\n",
    "    number1 : int\n",
    "    operation: str\n",
    "    number2: int\n",
    "    finalNumber: int\n",
    "\n",
    "def addr(state:AgentState):\n",
    "    state['finalNumber'] = state['number1'] + state['number2']\n",
    "\n",
    "    return state\n",
    "\n",
    "def subtractor(state:AgentState):\n",
    "    state['finalNumber'] = state['number1'] - state['number2']\n",
    "\n",
    "    return state\n",
    "\n",
    "def decide_next_node(state:AgentState):\n",
    "    if state['operation'] == '+':\n",
    "        return \"addition_operation\"\n",
    "\n",
    "    elif state['operation'] == '-':\n",
    "        return \"subtraction_operation\"\n",
    "\n",
    "graph = StateGraph(AgentState)\n",
    "graph.add_node(\"add_node\",addr)\n",
    "graph.add_node(\"subtract_node\",subtractor)\n",
    "graph.add_node(\"router\", lambda state:state)\n",
    "\n",
    "graph.add_edge(START,\"router\")\n",
    "graph.add_conditional_edges( \"router\", decide_next_node, {\"addition_operation\":\"add_node\",\"subtraction_operation\":\"subtract_node\"})\n",
    "\n",
    "graph.add_edge(\"add_node\", END)\n",
    "graph.add_edge(\"add_node\", END)\n",
    "\n",
    "app = graph.compile()\n",
    "display(Image(app.get_graph().draw_mermaid_png()))\n",
    "\n",
    "    "
   ]
  },
  {
   "cell_type": "code",
   "execution_count": null,
   "id": "0e062fb5-16fb-4e23-b97f-544056195845",
   "metadata": {},
   "outputs": [],
   "source": []
  },
  {
   "cell_type": "code",
   "execution_count": 41,
   "id": "f946d18f-187f-4658-bfd0-7ed68455c0e3",
   "metadata": {},
   "outputs": [
    {
     "data": {
      "text/plain": [
       "{'number1': 10, 'operation': '+', 'number2': 5, 'finalNumber': 15}"
      ]
     },
     "execution_count": 41,
     "metadata": {},
     "output_type": "execute_result"
    }
   ],
   "source": [
    "result = app.invoke({\"number1\":10, \"number2\":5,\"operation\":'+'})\n",
    "result"
   ]
  },
  {
   "cell_type": "code",
   "execution_count": 43,
   "id": "db84f5aa-7d8f-454c-b4ef-f6a672b75768",
   "metadata": {},
   "outputs": [
    {
     "data": {
      "text/plain": [
       "{'number1': 10, 'operation': '+', 'number2': 5, 'finalNumber': 15}"
      ]
     },
     "execution_count": 43,
     "metadata": {},
     "output_type": "execute_result"
    }
   ],
   "source": [
    "res = AgentState(number1=10, number2=5, operation='+')\n",
    "app.invoke(res)"
   ]
  },
  {
   "cell_type": "code",
   "execution_count": null,
   "id": "a3d4c516-d1bf-4bfc-8c78-9cbd64b52baf",
   "metadata": {},
   "outputs": [],
   "source": []
  },
  {
   "cell_type": "code",
   "execution_count": 44,
   "id": "d6594b26-0e15-4dc1-a9f5-d8277c1eac8d",
   "metadata": {},
   "outputs": [
    {
     "data": {
      "image/png": "[encoded data removed]",
      "text/plain": [
       "<IPython.core.display.Image object>"
      ]
     },
     "metadata": {},
     "output_type": "display_data"
    }
   ],
   "source": [
    "####Graph 5###\n",
    "class AgentState(TypedDict):\n",
    "    number1: int\n",
    "    operation: str\n",
    "    number2 : int\n",
    "    number3 : int\n",
    "    number4 : int\n",
    "    operation2: str\n",
    "    final_number : int\n",
    "    final_number2 : int\n",
    "\n",
    "def addr(state:AgentState):\n",
    "    state['final_number'] = state['number1'] + state['number2']\n",
    "    return state\n",
    "\n",
    "def subtractor(state:AgentState):\n",
    "    state['final_number'] = state['number1'] - state['number2']\n",
    "    return state\n",
    "\n",
    "def decide_next_node(state:AgentState):\n",
    "    if state['operation'] == '+':\n",
    "        return \"addition_operation\"\n",
    "    elif state['operation'] == '-':\n",
    "        return \"subtraction_operation\"\n",
    "\n",
    "def addr2(state:AgentState):\n",
    "    state['final_number2'] = state['number3'] + state['number4']\n",
    "    return state\n",
    "\n",
    "def subtractor2(state:AgentState):\n",
    "    state['final_number2'] = state['number3'] - state['number4']\n",
    "    return state\n",
    "\n",
    "def decide_next_node2(state:AgentState):\n",
    "    if state['operation2'] == '+':\n",
    "        return \"addition_operation2\"\n",
    "    elif state['operation2'] == '-':\n",
    "        return \"subtraction_operation2\"\n",
    "\n",
    "graph = StateGraph(AgentState)\n",
    "graph.add_node(\"add_node\", addr)\n",
    "graph.add_node(\"subtractor_node\", subtractor)\n",
    "graph.add_node(\"router1\", lambda state:state)\n",
    "graph.add_node(\"router2\", lambda state:state)\n",
    "graph.add_node(\"add_node2\", addr2)\n",
    "graph.add_node(\"subtractor_node2\", subtractor2)\n",
    "\n",
    "graph.add_edge(START,\"router1\")\n",
    "graph.add_conditional_edges(\"router1\",decide_next_node, {\"addition_operation\":\"add_node\",\"subtraction_operation\":\"subtractor_node\"})\n",
    "graph.add_edge(\"add_node\", \"router2\")\n",
    "graph.add_edge(\"subtractor_node\", \"router2\")\n",
    "\n",
    "\n",
    "graph.add_conditional_edges(\"router2\",decide_next_node2, {\"addition_operation2\":\"add_node2\",\"subtraction_operation2\":\"subtractor_node2\"})\n",
    "graph.add_edge(\"add_node2\", END)\n",
    "graph.add_edge(\"subtractor_node2\", END)\n",
    "\n",
    "app = graph.compile()\n",
    "\n",
    "display(Image(app.get_graph().draw_mermaid_png()))    "
   ]
  },
  {
   "cell_type": "code",
   "execution_count": 46,
   "id": "df5fbe50-6eb1-428a-80ff-833eda72da61",
   "metadata": {},
   "outputs": [
    {
     "data": {
      "text/plain": [
       "{'number1': 10,\n",
       " 'operation': '+',\n",
       " 'number2': 5,\n",
       " 'number3': 3,\n",
       " 'number4': 5,\n",
       " 'operation2': '-',\n",
       " 'final_number': 15,\n",
       " 'final_number2': -2}"
      ]
     },
     "execution_count": 46,
     "metadata": {},
     "output_type": "execute_result"
    }
   ],
   "source": [
    "res = AgentState(number1=10, number2=5,number3 =3, number4 =5, operation='+', operation2='-', finalNumber=0, finalNumber2=0)\n",
    "app.invoke(res)"
   ]
  },
  {
   "cell_type": "code",
   "execution_count": null,
   "id": "a267270a-2106-4ee0-8be4-61bb14ba1827",
   "metadata": {},
   "outputs": [],
   "source": []
  },
  {
   "cell_type": "code",
   "execution_count": 55,
   "id": "c803f85d-d052-48d8-99a0-e912f4951380",
   "metadata": {},
   "outputs": [],
   "source": [
    "from langgraph.graph import StateGraph, END\n",
    "import random\n",
    "from typing import Dict, List, TypedDict"
   ]
  },
  {
   "cell_type": "code",
   "execution_count": 56,
   "id": "506a75e7-6f95-4256-8b2a-76ef9c69af78",
   "metadata": {},
   "outputs": [],
   "source": [
    "class AgentState(TypedDict):\n",
    "    name:str\n",
    "    number: List[int]\n",
    "    counter: int\n",
    "\n",
    "\n",
    "def greeting_node(state:AgentState):\n",
    "    state['name'] = f\"Hi there, {state['name']}\"\n",
    "    state['counter'] = 0\n",
    "\n",
    "    return state\n",
    "\n",
    "def random_node(state:AgentState):\n",
    "    state['number'].append(random.randint(0, 10))\n",
    "    state['counter']+=1\n",
    "\n",
    "    return state\n",
    "\n",
    "def should_continue(state:AgentState):\n",
    "    if state['counter'] < 5:\n",
    "        print(\"Entering Loop\", state['counter'])\n",
    "        return \"loop\"\n",
    "    else:\n",
    "        return \"exit\"\n",
    "\n"
   ]
  },
  {
   "cell_type": "code",
   "execution_count": 57,
   "id": "03c1f0b4-0e7e-4d49-939c-57681f31d311",
   "metadata": {},
   "outputs": [
    {
     "data": {
      "text/plain": [
       "<langgraph.graph.state.StateGraph at 0x1365937d580>"
      ]
     },
     "execution_count": 57,
     "metadata": {},
     "output_type": "execute_result"
    }
   ],
   "source": [
    "graph = StateGraph(AgentState)\n",
    "graph.add_node('greeting', greeting_node)\n",
    "graph.add_node('random', random_node)\n",
    "graph.add_edge('greeting', 'random')\n",
    "\n",
    "graph.add_conditional_edges(\n",
    "    'random',\n",
    "    should_continue,\n",
    "    {\n",
    "        'loop':'random',\n",
    "        'exit':END\n",
    "    }\n",
    ")"
   ]
  },
  {
   "cell_type": "code",
   "execution_count": 58,
   "id": "c75e66fe-01b5-466a-8580-212522bc8463",
   "metadata": {},
   "outputs": [
    {
     "data": {
      "image/png": "[encoded data removed]",
      "text/plain": [
       "<IPython.core.display.Image object>"
      ]
     },
     "metadata": {},
     "output_type": "display_data"
    }
   ],
   "source": [
    "graph.set_entry_point(\"greeting\")\n",
    "app = graph.compile()\n",
    "display(Image(app.get_graph().draw_mermaid_png())) "
   ]
  },
  {
   "cell_type": "code",
   "execution_count": 59,
   "id": "a610a87d-95ba-4c2a-8c69-66f601eb940f",
   "metadata": {},
   "outputs": [
    {
     "name": "stdout",
     "output_type": "stream",
     "text": [
      "Entering Loop 1\n",
      "Entering Loop 2\n",
      "Entering Loop 3\n",
      "Entering Loop 4\n"
     ]
    },
    {
     "data": {
      "text/plain": [
       "{'name': 'Hi there, Vaibhav', 'number': [9, 1, 3, 10, 2], 'counter': 5}"
      ]
     },
     "execution_count": 59,
     "metadata": {},
     "output_type": "execute_result"
    }
   ],
   "source": [
    "app.invoke({'name':'Vaibhav', 'number':[], 'counter':-1})"
   ]
  },
  {
   "cell_type": "code",
   "execution_count": null,
   "id": "02fab631-3aa0-4522-b324-1a6477363aa8",
   "metadata": {},
   "outputs": [],
   "source": []
  },
  {
   "cell_type": "code",
   "execution_count": null,
   "id": "a34865cf-0557-4870-9ea5-3ec477858d82",
   "metadata": {},
   "outputs": [],
   "source": []
  },
  {
   "cell_type": "code",
   "execution_count": null,
   "id": "9c149cdd-35fd-47c7-aa6d-a7ebc7517645",
   "metadata": {},
   "outputs": [],
   "source": []
  },
  {
   "cell_type": "code",
   "execution_count": null,
   "id": "6dd5603a-f564-4cff-bc5b-6fc997990293",
   "metadata": {},
   "outputs": [],
   "source": []
  },
  {
   "cell_type": "code",
   "execution_count": null,
   "id": "2c09b949-d34b-4131-a1d0-e54050373660",
   "metadata": {},
   "outputs": [],
   "source": []
  },
  {
   "cell_type": "code",
   "execution_count": null,
   "id": "dcd8762a-25d7-44f9-b1c5-538c049ef5e2",
   "metadata": {},
   "outputs": [],
   "source": []
  },
  {
   "cell_type": "code",
   "execution_count": null,
   "id": "8793beec-c3f5-4831-a86b-dcb90171c51a",
   "metadata": {},
   "outputs": [],
   "source": []
  },
  {
   "cell_type": "code",
   "execution_count": null,
   "id": "147f437c-510b-489e-b829-12fb877600b1",
   "metadata": {},
   "outputs": [],
   "source": []
  },
  {
   "cell_type": "code",
   "execution_count": null,
   "id": "f593e136-a95d-4b40-981b-bed30456e35a",
   "metadata": {},
   "outputs": [],
   "source": []
  },
  {
   "cell_type": "code",
   "execution_count": null,
   "id": "c4bf5a10-0963-4ff7-a568-54924f97bd58",
   "metadata": {},
   "outputs": [],
   "source": []
  },
  {
   "cell_type": "code",
   "execution_count": null,
   "id": "c094c280-53a7-4cbb-9b54-c1aa07286217",
   "metadata": {},
   "outputs": [],
   "source": []
  },
  {
   "cell_type": "code",
   "execution_count": null,
   "id": "3f82f3fe-82a6-4634-b71e-ba9fc76d4d78",
   "metadata": {},
   "outputs": [],
   "source": []
  },
  {
   "cell_type": "code",
   "execution_count": null,
   "id": "d8c31694-84ea-4a45-8f47-e8d7960a9b23",
   "metadata": {},
   "outputs": [],
   "source": []
  },
  {
   "cell_type": "code",
   "execution_count": null,
   "id": "c3b5faf0-ae9b-4b92-88d0-0d9e00106260",
   "metadata": {},
   "outputs": [],
   "source": []
  },
  {
   "cell_type": "code",
   "execution_count": null,
   "id": "72202092-c37b-4bc6-adfd-f7d7159b9e67",
   "metadata": {},
   "outputs": [],
   "source": []
  },
  {
   "cell_type": "code",
   "execution_count": null,
   "id": "b80c22c9-a732-4882-b611-40dcf422ea26",
   "metadata": {},
   "outputs": [],
   "source": []
  },
  {
   "cell_type": "code",
   "execution_count": null,
   "id": "41b012fd-cfd5-4db1-bd6b-287e53676280",
   "metadata": {},
   "outputs": [],
   "source": []
  },
  {
   "cell_type": "code",
   "execution_count": null,
   "id": "90f63a26-f49d-439d-9fd1-6d2882fc733a",
   "metadata": {},
   "outputs": [],
   "source": []
  },
  {
   "cell_type": "code",
   "execution_count": null,
   "id": "3f8c0fd2-9bc0-437c-9dcf-baf71b4148dd",
   "metadata": {},
   "outputs": [],
   "source": []
  },
  {
   "cell_type": "code",
   "execution_count": null,
   "id": "54d5f3be-789d-4b34-bf00-01a23abc6adf",
   "metadata": {},
   "outputs": [],
   "source": []
  },
  {
   "cell_type": "code",
   "execution_count": null,
   "id": "e84ffc8b-ce73-43c6-b8c5-c5809b1abb74",
   "metadata": {},
   "outputs": [],
   "source": []
  },
  {
   "cell_type": "code",
   "execution_count": null,
   "id": "32c024f9-5c44-4bab-a4be-b0f198a347d1",
   "metadata": {},
   "outputs": [],
   "source": []
  },
  {
   "cell_type": "code",
   "execution_count": null,
   "id": "df480035-225d-439a-86b9-b4859a51a6ea",
   "metadata": {},
   "outputs": [],
   "source": []
  },
  {
   "cell_type": "code",
   "execution_count": null,
   "id": "fa4f0afb-0a3a-4f6d-932d-759170bd9804",
   "metadata": {},
   "outputs": [],
   "source": []
  },
  {
   "cell_type": "code",
   "execution_count": null,
   "id": "a3f31f08-5433-45b0-b04d-ac83571ebd24",
   "metadata": {},
   "outputs": [],
   "source": []
  },
  {
   "cell_type": "code",
   "execution_count": null,
   "id": "37cd4e5a-6f4c-432b-bfef-db411b80a188",
   "metadata": {},
   "outputs": [],
   "source": []
  },
  {
   "cell_type": "code",
   "execution_count": null,
   "id": "0fc4c3d7-33a1-4301-99c5-69f4af326575",
   "metadata": {},
   "outputs": [],
   "source": []
  },
  {
   "cell_type": "code",
   "execution_count": null,
   "id": "6ad39788-5554-4012-9226-cb4171d65713",
   "metadata": {},
   "outputs": [],
   "source": []
  },
  {
   "cell_type": "code",
   "execution_count": null,
   "id": "4cc0de81-88be-4d5c-9ed3-f7b6b1590b82",
   "metadata": {},
   "outputs": [],
   "source": []
  },
  {
   "cell_type": "code",
   "execution_count": null,
   "id": "b601e25d-6c9d-491c-8aa3-560c01004e71",
   "metadata": {},
   "outputs": [],
   "source": []
  },
  {
   "cell_type": "code",
   "execution_count": null,
   "id": "7ed2738d-aebf-429d-91af-c218417f3b6d",
   "metadata": {},
   "outputs": [],
   "source": []
  },
  {
   "cell_type": "code",
   "execution_count": null,
   "id": "3381677b-2980-4d63-a322-3178c4869646",
   "metadata": {},
   "outputs": [],
   "source": []
  },
  {
   "cell_type": "code",
   "execution_count": null,
   "id": "2ff84671-1b31-4c48-88e6-1da158ef648b",
   "metadata": {},
   "outputs": [],
   "source": []
  },
  {
   "cell_type": "code",
   "execution_count": null,
   "id": "18567c7e-33d8-4c4a-9c8f-ec9868507696",
   "metadata": {},
   "outputs": [],
   "source": []
  },
  {
   "cell_type": "code",
   "execution_count": null,
   "id": "144e519b-237a-45f0-98bb-0280159de9db",
   "metadata": {},
   "outputs": [],
   "source": []
  },
  {
   "cell_type": "code",
   "execution_count": null,
   "id": "12c70cc9-976e-41fe-8a1f-926df24e9dd5",
   "metadata": {},
   "outputs": [],
   "source": []
  },
  {
   "cell_type": "code",
   "execution_count": null,
   "id": "84fe15e7-0fd1-469e-ab2d-36d879865d61",
   "metadata": {},
   "outputs": [],
   "source": []
  },
  {
   "cell_type": "code",
   "execution_count": null,
   "id": "61961844-4002-485c-ba87-17df74220f25",
   "metadata": {},
   "outputs": [],
   "source": []
  },
  {
   "cell_type": "code",
   "execution_count": null,
   "id": "cdaece1f-e822-4450-adbb-d7442a955478",
   "metadata": {},
   "outputs": [],
   "source": []
  },
  {
   "cell_type": "code",
   "execution_count": null,
   "id": "edf1d64d-fcab-4713-a3a9-0d52ff3541cc",
   "metadata": {},
   "outputs": [],
   "source": []
  },
  {
   "cell_type": "code",
   "execution_count": null,
   "id": "0fad3637-6bba-453e-acdc-91693aa9c22a",
   "metadata": {},
   "outputs": [],
   "source": []
  },
  {
   "cell_type": "code",
   "execution_count": null,
   "id": "e08e4860-8560-4aeb-a83f-2afcff04a05c",
   "metadata": {},
   "outputs": [],
   "source": []
  },
  {
   "cell_type": "code",
   "execution_count": null,
   "id": "f9239cff-935c-44a2-8e9b-8a5af3e68201",
   "metadata": {},
   "outputs": [],
   "source": []
  },
  {
   "cell_type": "code",
   "execution_count": null,
   "id": "275d3107-2e07-4f28-8a2d-855f80630bfc",
   "metadata": {},
   "outputs": [],
   "source": []
  },
  {
   "cell_type": "code",
   "execution_count": null,
   "id": "a5842b44-8fce-42f2-8f15-6843adebbbd9",
   "metadata": {},
   "outputs": [],
   "source": []
  },
  {
   "cell_type": "code",
   "execution_count": null,
   "id": "2084dd26-a099-452a-a04b-8c52fe181804",
   "metadata": {},
   "outputs": [],
   "source": []
  },
  {
   "cell_type": "code",
   "execution_count": null,
   "id": "d302908a-ca5a-4f82-98d5-e0f66e59a009",
   "metadata": {},
   "outputs": [],
   "source": []
  },
  {
   "cell_type": "code",
   "execution_count": null,
   "id": "c8c540d8-17c7-4f81-92cc-246da41f4731",
   "metadata": {},
   "outputs": [],
   "source": []
  },
  {
   "cell_type": "code",
   "execution_count": null,
   "id": "2d745958-3101-4523-a5d9-26fb7fbfd574",
   "metadata": {},
   "outputs": [],
   "source": []
  },
  {
   "cell_type": "code",
   "execution_count": null,
   "id": "4756995a-0322-4190-b6a0-b34d875d8899",
   "metadata": {},
   "outputs": [],
   "source": []
  },
  {
   "cell_type": "code",
   "execution_count": null,
   "id": "16561e39-2d78-4e62-96e1-733b1e9d73bc",
   "metadata": {},
   "outputs": [],
   "source": []
  },
  {
   "cell_type": "code",
   "execution_count": null,
   "id": "6b668751-99a8-4847-8265-f520ee24adec",
   "metadata": {},
   "outputs": [],
   "source": []
  },
  {
   "cell_type": "code",
   "execution_count": null,
   "id": "af88eefc-e468-4f3d-808b-72cbc3997cf1",
   "metadata": {},
   "outputs": [],
   "source": []
  },
  {
   "cell_type": "code",
   "execution_count": null,
   "id": "173594a1-337b-4385-b7d6-7637ffa6749c",
   "metadata": {},
   "outputs": [],
   "source": []
  },
  {
   "cell_type": "code",
   "execution_count": null,
   "id": "c7307720-5fca-4308-936e-879848e3ec20",
   "metadata": {},
   "outputs": [],
   "source": []
  },
  {
   "cell_type": "code",
   "execution_count": null,
   "id": "9f62a9b7-f169-412f-80b1-7894cb00f25f",
   "metadata": {},
   "outputs": [],
   "source": []
  },
  {
   "cell_type": "code",
   "execution_count": null,
   "id": "4b7b2284-1c8c-42de-bdbc-7ea20744be03",
   "metadata": {},
   "outputs": [],
   "source": []
  },
  {
   "cell_type": "code",
   "execution_count": null,
   "id": "01710ecf-3f33-46c6-a008-a55b4adfa3d8",
   "metadata": {},
   "outputs": [],
   "source": []
  },
  {
   "cell_type": "code",
   "execution_count": null,
   "id": "43304b7c-7030-459f-9ed3-f77aaca8f9a4",
   "metadata": {},
   "outputs": [],
   "source": []
  },
  {
   "cell_type": "code",
   "execution_count": null,
   "id": "b4bd4a96-c078-4c87-b288-ebd431376c39",
   "metadata": {},
   "outputs": [],
   "source": []
  },
  {
   "cell_type": "code",
   "execution_count": null,
   "id": "8dffbf6f-95b0-4dc6-ad06-167e72ef29aa",
   "metadata": {},
   "outputs": [],
   "source": []
  },
  {
   "cell_type": "code",
   "execution_count": null,
   "id": "260cebf0-7d9c-476d-a201-08e270750240",
   "metadata": {},
   "outputs": [],
   "source": []
  },
  {
   "cell_type": "code",
   "execution_count": null,
   "id": "e8843d97-626f-4b34-9bba-5b685dfcbd93",
   "metadata": {},
   "outputs": [],
   "source": []
  },
  {
   "cell_type": "code",
   "execution_count": null,
   "id": "133a03f9-4717-4f2c-a8b5-3ff2c292aaad",
   "metadata": {},
   "outputs": [],
   "source": []
  },
  {
   "cell_type": "code",
   "execution_count": null,
   "id": "4c40608f-4d88-411c-8f91-746cb043bd5c",
   "metadata": {},
   "outputs": [],
   "source": []
  },
  {
   "cell_type": "code",
   "execution_count": null,
   "id": "7e42b5ad-9bfc-4920-9d77-9138c4dffca0",
   "metadata": {},
   "outputs": [],
   "source": []
  },
  {
   "cell_type": "code",
   "execution_count": null,
   "id": "ec42da0a-de59-4603-a37c-8c6ae9bcbe46",
   "metadata": {},
   "outputs": [],
   "source": []
  },
  {
   "cell_type": "code",
   "execution_count": null,
   "id": "6713e1aa-e538-4605-882e-618701f2bd02",
   "metadata": {},
   "outputs": [],
   "source": []
  },
  {
   "cell_type": "code",
   "execution_count": null,
   "id": "1bf4e3e8-b241-4ed1-9627-12618042c67a",
   "metadata": {},
   "outputs": [],
   "source": []
  },
  {
   "cell_type": "code",
   "execution_count": null,
   "id": "0a359af6-dd8b-4ae9-b993-905cfc480cac",
   "metadata": {},
   "outputs": [],
   "source": []
  },
  {
   "cell_type": "code",
   "execution_count": null,
   "id": "7e177018-d1c3-4168-b486-4018df787b5f",
   "metadata": {},
   "outputs": [],
   "source": []
  },
  {
   "cell_type": "code",
   "execution_count": null,
   "id": "42ffa72a-7a65-4684-b88d-65e53b21b9c6",
   "metadata": {},
   "outputs": [],
   "source": []
  },
  {
   "cell_type": "code",
   "execution_count": null,
   "id": "61cde502-34ce-49da-8a8e-17739f8cee8b",
   "metadata": {},
   "outputs": [],
   "source": []
  },
  {
   "cell_type": "code",
   "execution_count": null,
   "id": "56232e89-52d4-418d-b2b5-58572d17249e",
   "metadata": {},
   "outputs": [],
   "source": []
  },
  {
   "cell_type": "code",
   "execution_count": null,
   "id": "0123046d-5b26-41ef-af71-29fac36a5fe1",
   "metadata": {},
   "outputs": [],
   "source": []
  },
  {
   "cell_type": "code",
   "execution_count": null,
   "id": "e11c30be-fd1c-4e24-b0c0-183ba9bbe784",
   "metadata": {},
   "outputs": [],
   "source": []
  },
  {
   "cell_type": "code",
   "execution_count": null,
   "id": "b169c47c-7f36-4c7a-8276-ce3eb58b1de8",
   "metadata": {},
   "outputs": [],
   "source": []
  },
  {
   "cell_type": "code",
   "execution_count": null,
   "id": "d04f6a31-ece3-4cb0-94ff-78deaa40adb9",
   "metadata": {},
   "outputs": [],
   "source": []
  },
  {
   "cell_type": "code",
   "execution_count": null,
   "id": "a724e584-ff99-44e7-a6e9-298d3325aab2",
   "metadata": {},
   "outputs": [],
   "source": []
  },
  {
   "cell_type": "code",
   "execution_count": null,
   "id": "e73c4963-6b73-43ea-8bef-1903d4b227ce",
   "metadata": {},
   "outputs": [],
   "source": []
  },
  {
   "cell_type": "code",
   "execution_count": null,
   "id": "c655a474-1f6b-4f6d-8e08-6c01978c43fb",
   "metadata": {},
   "outputs": [],
   "source": []
  },
  {
   "cell_type": "code",
   "execution_count": null,
   "id": "42ea6be2-5d52-4f54-ba0a-61292e66aa3c",
   "metadata": {},
   "outputs": [],
   "source": []
  },
  {
   "cell_type": "code",
   "execution_count": null,
   "id": "f0213086-ed53-4e75-af9c-6762520cdbf6",
   "metadata": {},
   "outputs": [],
   "source": []
  },
  {
   "cell_type": "code",
   "execution_count": null,
   "id": "eac7c37e-0598-4e12-b7f5-6e4039f64454",
   "metadata": {},
   "outputs": [],
   "source": []
  },
  {
   "cell_type": "code",
   "execution_count": null,
   "id": "5143825b-f522-4c34-9b56-4c5c6e3dfb13",
   "metadata": {},
   "outputs": [],
   "source": []
  },
  {
   "cell_type": "code",
   "execution_count": null,
   "id": "288b6856-fac0-498a-b6ac-3f78dbdf0445",
   "metadata": {},
   "outputs": [],
   "source": []
  },
  {
   "cell_type": "code",
   "execution_count": null,
   "id": "28c55190-1f26-4143-aa3e-3ae7df4cdb32",
   "metadata": {},
   "outputs": [],
   "source": []
  },
  {
   "cell_type": "code",
   "execution_count": null,
   "id": "06ae84fb-bcfa-4e0b-83be-74dfbde3f4f5",
   "metadata": {},
   "outputs": [],
   "source": []
  },
  {
   "cell_type": "code",
   "execution_count": null,
   "id": "4231b087-3b43-4ad8-923c-2ac3043d2747",
   "metadata": {},
   "outputs": [],
   "source": []
  },
  {
   "cell_type": "code",
   "execution_count": null,
   "id": "135c3592-6ab1-4eda-a573-5eb4ef669cdb",
   "metadata": {},
   "outputs": [],
   "source": []
  },
  {
   "cell_type": "code",
   "execution_count": null,
   "id": "e93e2b9f-af68-449f-bb3e-4cd0b4dc518b",
   "metadata": {},
   "outputs": [],
   "source": []
  }
 ],
 "metadata": {
  "kernelspec": {
   "display_name": "Python 3 (ipykernel)",
   "language": "python",
   "name": "python3"
  },
  "language_info": {
   "codemirror_mode": {
    "name": "ipython",
    "version": 3
   },
   "file_extension": ".py",
   "mimetype": "text/x-python",
   "name": "python",
   "nbconvert_exporter": "python",
   "pygments_lexer": "ipython3",
   "version": "3.12.10"
  }
 },
 "nbformat": 4,
 "nbformat_minor": 5
}
